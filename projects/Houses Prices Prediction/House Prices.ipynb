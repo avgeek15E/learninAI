{
 "cells": [
  {
   "cell_type": "markdown",
   "id": "0bb5bde3-356a-4440-8a94-b38677462abc",
   "metadata": {},
   "source": [
    "## All the life cycle in the Data Science Project\n",
    "1. Data Analysis\n",
    "2. Feature Engineering\n",
    "3. Feature Selection\n",
    "4. Model Building\n",
    "5. Model Deployment"
   ]
  },
  {
   "cell_type": "code",
   "execution_count": 1,
   "id": "f3728dcc-18a1-481f-99fc-9854cd40e301",
   "metadata": {},
   "outputs": [],
   "source": [
    "# Data Analysis phase\n",
    "# Main aim here is to understandd the data \n",
    "import numpy as np \n",
    "import pandas as pd \n",
    "import matplotlib.pyplot as pyplot \n",
    "%matplotlib inline\n",
    "import seaborn as sns "
   ]
  },
  {
   "cell_type": "code",
   "execution_count": null,
   "id": "7d92a21c-fa60-4faf-9fc2-7b1c88c6f75b",
   "metadata": {},
   "outputs": [],
   "source": []
  },
  {
   "cell_type": "code",
   "execution_count": null,
   "id": "78d2ba7a-534d-41f5-9153-bbc175c86cfd",
   "metadata": {},
   "outputs": [],
   "source": []
  }
 ],
 "metadata": {
  "kernelspec": {
   "display_name": "Python 3 (ipykernel)",
   "language": "python",
   "name": "python3"
  },
  "language_info": {
   "codemirror_mode": {
    "name": "ipython",
    "version": 3
   },
   "file_extension": ".py",
   "mimetype": "text/x-python",
   "name": "python",
   "nbconvert_exporter": "python",
   "pygments_lexer": "ipython3",
   "version": "3.13.3"
  }
 },
 "nbformat": 4,
 "nbformat_minor": 5
}
